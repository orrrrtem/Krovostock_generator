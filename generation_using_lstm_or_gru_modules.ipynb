{
  "nbformat": 4,
  "nbformat_minor": 0,
  "metadata": {
    "accelerator": "GPU",
    "colab": {
      "name": "nlp4_work_version.ipynb\"",
      "provenance": [],
      "collapsed_sections": [
        "mUuRjrRepIRM"
      ]
    },
    "kernelspec": {
      "display_name": "Python 3",
      "name": "python3"
    },
    "language_info": {
      "codemirror_mode": {
        "name": "ipython",
        "version": 3
      },
      "file_extension": ".py",
      "mimetype": "text/x-python",
      "name": "python",
      "nbconvert_exporter": "python",
      "pygments_lexer": "ipython3",
      "version": "3.7.0"
    }
  },
  "cells": [
    {
      "cell_type": "markdown",
      "metadata": {
        "id": "DXo1KjzRZU6a"
      },
      "source": [
        "#Лабораторная работа 4\n",
        "\n",
        "###Выполнили: Аросланкин Артем, Смольникова Полина \n",
        "\n",
        "###17ПМИ"
      ]
    },
    {
      "cell_type": "markdown",
      "metadata": {
        "id": "uDFhyOmQan0v"
      },
      "source": [
        "# Text generation with deep learning"
      ]
    },
    {
      "cell_type": "code",
      "metadata": {
        "id": "TslNQEFlan0z"
      },
      "source": [
        "import sys\n",
        "\n",
        "import os\n",
        "import os.path\n",
        "import random\n",
        "import collections\n",
        "import shutil\n",
        "import time\n",
        "import glob\n",
        "import csv\n",
        "import re\n",
        "import gc\n",
        "import time\n",
        "import matplotlib.pyplot as plt\n",
        "import numpy as np\n",
        "import pandas as pd\n",
        "from math import pi\n",
        "import scipy\n",
        "import string\n",
        "import random\n",
        "import math\n",
        "\n",
        "import torch\n",
        "import torch.nn as nn\n",
        "import torch.nn.functional as F\n",
        "import torch.optim as optim\n",
        "from torch.utils.data import Dataset, DataLoader, TensorDataset\n",
        "from torch.autograd import Variable\n",
        "\n",
        "import torchvision\n",
        "from torchvision import transforms, datasets\n",
        "from torchsummary import summary\n",
        "\n",
        "from tqdm import tqdm\n",
        "%matplotlib inline\n",
        "\n",
        "from bokeh.io import show,output_notebook\n",
        "\n",
        "output_notebook()"
      ],
      "execution_count": null,
      "outputs": []
    },
    {
      "cell_type": "code",
      "metadata": {
        "id": "6EyTTAXDQtlA",
        "colab": {
          "base_uri": "https://localhost:8080/"
        },
        "outputId": "2bd61cf6-5938-428c-8302-b76f11b247a9"
      },
      "source": [
        "from google.colab import drive\n",
        "drive.mount('/content/drive')"
      ],
      "execution_count": null,
      "outputs": [
        {
          "output_type": "stream",
          "text": [
            "Mounted at /content/drive\n"
          ],
          "name": "stdout"
        }
      ]
    },
    {
      "cell_type": "markdown",
      "metadata": {
        "id": "1z-nkq4Tan0-"
      },
      "source": [
        "**Задача**\n",
        "\n",
        "   Обучить character recurrent neural network (char RNN) на датасете статей arxiv, а также на своих данных и исследовать её свойства."
      ]
    },
    {
      "cell_type": "markdown",
      "metadata": {
        "id": "3PdyVzjVZ5KG"
      },
      "source": [
        "##Датасет"
      ]
    },
    {
      "cell_type": "markdown",
      "metadata": {
        "id": "YpW2UFIfZ9tA"
      },
      "source": [
        "Посмотрим на данные:"
      ]
    },
    {
      "cell_type": "code",
      "metadata": {
        "colab": {
          "base_uri": "https://localhost:8080/"
        },
        "id": "cjlkZaSDaBSb",
        "outputId": "db1e03a0-ebdf-4752-bb74-1e97f9508b80"
      },
      "source": [
        "text = pd.read_csv('/content/drive/MyDrive/Colab Notebooks/nlp_lab4/arxiv.csv')['summary']\n",
        "text"
      ],
      "execution_count": null,
      "outputs": [
        {
          "output_type": "execute_result",
          "data": {
            "text/plain": [
              "0        In summary of the research findings presented ...\n",
              "1        In this paper, structural controllability of a...\n",
              "2        We present a Deep Cuboid Detector which takes ...\n",
              "3        In this paper, we study the trade-off between ...\n",
              "4        In this paper, we propose a characterization o...\n",
              "                               ...                        \n",
              "27183    Being motivated by the multilayer RECOS (REcti...\n",
              "27184    Understanding tie strength in social networks,...\n",
              "27185    We present pyroomacoustics, a software package...\n",
              "27186    Joint image filters leverage the guidance imag...\n",
              "27187    Sentiment analysis aims to uncover emotions co...\n",
              "Name: summary, Length: 27188, dtype: object"
            ]
          },
          "metadata": {
            "tags": []
          },
          "execution_count": 91
        }
      ]
    },
    {
      "cell_type": "markdown",
      "metadata": {
        "id": "5kcKTl9tak6c"
      },
      "source": [
        "Всего в наборе данных 27188 примеров summary.\n",
        "\n",
        "Было принято решение не убирать все знаки препинания и оставить топ-10 наиболее часто встречающихся (так как текст без знаков препинания выглядит совсем грустно)"
      ]
    },
    {
      "cell_type": "markdown",
      "metadata": {
        "id": "F14Yl_xWyQA2"
      },
      "source": [
        "##Получение данных из датасета"
      ]
    },
    {
      "cell_type": "code",
      "metadata": {
        "id": "koyNJE8pnrgi"
      },
      "source": [
        "class TextDataset(Dataset):\n",
        "    def __init__(self, file_name, root_dir, file_type, chunk_len=200, batch_size=50):\n",
        "        if file_type == 'csv':\n",
        "            self.dataset = pd.read_csv(root_dir + file_name)['summary']\n",
        "        if file_type == 'txt':\n",
        "            with open(root_dir + file_name) as f:\n",
        "                self.dataset = f.read()\n",
        "        \n",
        "        self.chunk_len = chunk_len\n",
        "        self.batch_size = batch_size\n",
        "        tmp_text = ''.join([data.lower().replace('\\n', ' ').replace('\\x7f', ' ') for data in self.dataset])\n",
        "        self.text = self.delete_punctuation(tmp_text)\n",
        "        self.text_len = len(self.text)\n",
        "\n",
        "        self.vocabulary = list(set(self.text))\n",
        "        self.vocabulary_len = len(self.vocabulary)\n",
        "        self.vocabulary.sort()\n",
        "\n",
        "        self.char_to_idx = dict((c, i) for i, c in enumerate(self.vocabulary))\n",
        "        self.idx_to_char = dict((i, c) for i, c in enumerate(self.vocabulary))\n",
        "\n",
        "    def build_sequence(self):\n",
        "        input = torch.LongTensor(self.batch_size, self.chunk_len)\n",
        "        target = torch.LongTensor(self.batch_size, self.chunk_len)\n",
        "        for bi in range(self.batch_size):\n",
        "            start_index = random.randint(0, self.text_len - self.chunk_len - 1)\n",
        "            end_index = start_index + self.chunk_len + 1\n",
        "            chunk = self.text[start_index:end_index]\n",
        "            input[bi] = self.char_tensor(chunk[:-1])\n",
        "            target[bi] = self.char_tensor(chunk[1:])\n",
        "\n",
        "        input = Variable(input)\n",
        "        target = Variable(target)\n",
        "        if cuda:\n",
        "            input = input.cuda()\n",
        "            target = target.cuda()\n",
        "        return input, target\n",
        "\n",
        "    def delete_punctuation(self, text):\n",
        "        punctuation_dict = {}\n",
        "        tokens = text.split()\n",
        "        for word in tokens:\n",
        "            if word in string.punctuation: \n",
        "                if word not in punctuation_dict:\n",
        "                    punctuation_dict[word] = 1\n",
        "                else:\n",
        "                    punctuation_dict[word] += 1\n",
        "        top_punctuation = min(10, len(punctuation_dict))\n",
        "\n",
        "        for i in range(0, top_punctuation):\n",
        "            max_key = max(punctuation_dict, key=punctuation_dict.get)\n",
        "            punctuation_dict.pop(max_key)\n",
        "        if len(punctuation_dict) > 0:\n",
        "            punctuation_set = ''.join([key for key in punctuation_dict])\n",
        "            regex_punct = re.compile('[%s]' % re.escape(punctuation_set))\n",
        "            text = regex_punct.sub('', text)\n",
        "        return text\n",
        "\n",
        "    def char_tensor(self, string):\n",
        "        tensor = torch.zeros(len(string)).long()\n",
        "        for c in range(len(string)):\n",
        "            try:\n",
        "                tensor[c] = self.char_to_idx[string[c]]\n",
        "            except:\n",
        "                continue\n",
        "        return tensor"
      ],
      "execution_count": null,
      "outputs": []
    },
    {
      "cell_type": "markdown",
      "metadata": {
        "id": "mUuRjrRepIRM"
      },
      "source": [
        "##Архитектура сети"
      ]
    },
    {
      "cell_type": "code",
      "metadata": {
        "id": "NNPUCq3MrOnC"
      },
      "source": [
        "class CharRNN(nn.Module):\n",
        "    def __init__(self, input_size, hidden_size, output_size, model=\"gru\", n_layers=1):\n",
        "        super(CharRNN, self).__init__()\n",
        "        self.model = model.lower()\n",
        "        self.input_size = input_size\n",
        "        self.hidden_size = hidden_size\n",
        "        self.output_size = output_size\n",
        "        self.n_layers = n_layers\n",
        "\n",
        "        self.encoder = nn.Embedding(input_size, hidden_size)\n",
        "        if self.model == \"gru\":\n",
        "            self.rnn = nn.GRU(hidden_size, hidden_size, n_layers)\n",
        "        elif self.model == \"lstm\":\n",
        "            self.rnn = nn.LSTM(hidden_size, hidden_size, n_layers)\n",
        "        self.decoder = nn.Linear(hidden_size, output_size)\n",
        "\n",
        "    def forward(self, input, hidden):\n",
        "        batch_size = input.size(0)\n",
        "        encoded = self.encoder(input)\n",
        "        output, hidden = self.rnn(encoded.view(1, batch_size, -1), hidden)\n",
        "        output = self.decoder(output.view(batch_size, -1))\n",
        "        return output, hidden\n",
        "\n",
        "    def forward2(self, input, hidden):\n",
        "        encoded = self.encoder(input.view(1, -1))\n",
        "        output, hidden = self.rnn(encoded.view(1, 1, -1), hidden)\n",
        "        output = self.decoder(output.view(1, -1))\n",
        "        return output, hidden\n",
        "\n",
        "    def init_hidden(self, batch_size):\n",
        "        if self.model == \"lstm\":\n",
        "            return (Variable(torch.zeros(self.n_layers, batch_size, self.hidden_size)),\n",
        "                    Variable(torch.zeros(self.n_layers, batch_size, self.hidden_size)))\n",
        "        return Variable(torch.zeros(self.n_layers, batch_size, self.hidden_size))"
      ],
      "execution_count": null,
      "outputs": []
    },
    {
      "cell_type": "code",
      "metadata": {
        "id": "0zHT9Thl3kl-"
      },
      "source": [
        "def time_since(since):\n",
        "    s = time.time() - since\n",
        "    m = math.floor(s / 60)\n",
        "    s -= m * 60\n",
        "    return '%dm %ds' % (m, s)"
      ],
      "execution_count": null,
      "outputs": []
    },
    {
      "cell_type": "code",
      "metadata": {
        "id": "d_i-tflbziEu"
      },
      "source": [
        "class Model():\n",
        "    def __init__(self, hidden_size, learning_rate, \n",
        "                 chunk_len, batch_size, data, \n",
        "                 model_type=\"gru\", n_layers=1, cuda=0):\n",
        "        self.model = CharRNN(\n",
        "                              data.vocabulary_len,\n",
        "                              hidden_size,\n",
        "                              data.vocabulary_len,\n",
        "                              model=model_type,\n",
        "                              n_layers=n_layers\n",
        "                            )\n",
        "        self.optimizer = torch.optim.Adam(self.model.parameters(), lr=learning_rate)\n",
        "        self.criterion = nn.CrossEntropyLoss()\n",
        "        self.chunk_len = chunk_len\n",
        "        self.batch_size = batch_size\n",
        "        self.data = data\n",
        "        self.all_losses = []\n",
        "        self.cuda = cuda\n",
        "        if cuda:\n",
        "           self.model.cuda()\n",
        "\n",
        "    def info():\n",
        "        print(self.model)\n",
        "\n",
        "    def start_train(self, n_epochs = 200, print_every = 100):\n",
        "        start = time.time()\n",
        "        print(\"Training for %d epochs...\" % n_epochs)\n",
        "        for epoch in (range(1, n_epochs + 1)):\n",
        "            input, target = self.data.build_sequence()\n",
        "            loss = self.train(input, target)\n",
        "            self.all_losses.append(loss)\n",
        "\n",
        "            if epoch % print_every == 0:\n",
        "                print('[%s (%d %d%%) %.4f]' % (time_since(start), epoch, epoch / n_epochs * 100, loss))\n",
        "                print(self.generate('A', 100), '\\n')\n",
        "\n",
        "    def train(self, inp, target):\n",
        "        hidden = self.model.init_hidden(self.batch_size)\n",
        "        if self.cuda:\n",
        "            hidden = hidden.cuda()\n",
        "        self.model.zero_grad()\n",
        "        loss = 0\n",
        "\n",
        "        for c in range(self.chunk_len):\n",
        "            output, hidden = self.model(inp[:,c], hidden)\n",
        "            loss += self.criterion(output.view(self.batch_size, -1), target[:,c])\n",
        "\n",
        "        loss.backward()\n",
        "        self.optimizer.step()\n",
        "        return loss.item() / self.chunk_len\n",
        "    \n",
        "    def plot_loss(self, title='Model Loss'):\n",
        "        plt.plot(self.all_losses)\n",
        "        plt.xlabel('Epoch')\n",
        "        plt.ylabel('Loss')\n",
        "        plt.suptitle(title)\n",
        "        plt.show()\n",
        "\n",
        "    def generate(self, prime_str='A', predict_len=100, temperature=0.8, cuda=False):\n",
        "        hidden = self.model.init_hidden(1)\n",
        "        prime_input = Variable(self.data.char_tensor(prime_str).unsqueeze(0))\n",
        "\n",
        "        if self.cuda:\n",
        "            hidden = hidden.cuda()\n",
        "            prime_input = prime_input.cuda()\n",
        "        predicted = prime_str\n",
        "\n",
        "        # Use priming string to \"build up\" hidden state\n",
        "        for p in range(len(prime_str) - 1):\n",
        "            _, hidden = self.model(prime_input[:,p], hidden)\n",
        "            \n",
        "        inp = prime_input[:,-1]\n",
        "        \n",
        "        for p in range(predict_len):\n",
        "            output, hidden = self.model(inp, hidden)\n",
        "            \n",
        "            # Sample from the network as a multinomial distribution\n",
        "            output_dist = output.data.view(-1).div(temperature).exp()\n",
        "            top_i = torch.multinomial(output_dist, 1)[0]\n",
        "\n",
        "            # Add predicted character to string and use as next input\n",
        "            predicted_char = self.data.idx_to_char[top_i.item()]\n",
        "            predicted += predicted_char\n",
        "            inp = Variable(self.data.char_tensor(predicted_char).unsqueeze(0))\n",
        "            if self.cuda:\n",
        "                inp = inp.cuda()\n",
        "\n",
        "        return predicted\n",
        "    "
      ],
      "execution_count": null,
      "outputs": []
    },
    {
      "cell_type": "markdown",
      "metadata": {
        "id": "x_aAI9DJpUZp"
      },
      "source": [
        "##Эксперименты"
      ]
    },
    {
      "cell_type": "markdown",
      "metadata": {
        "id": "SjPgAN9xjLNE"
      },
      "source": [
        "Эксперименты показали, что тренируется лучше с большим чанком(окошком).\n",
        "Поэтому фиксируем параметр *chunk_len = 200* \n",
        "\n",
        "Мы рассматриваем 2 архитектуры - GRU и LSTM"
      ]
    },
    {
      "cell_type": "markdown",
      "metadata": {
        "id": "w1kG_gZ1TQdJ"
      },
      "source": [
        "###GRU model"
      ]
    },
    {
      "cell_type": "code",
      "metadata": {
        "colab": {
          "base_uri": "https://localhost:8080/",
          "height": 1000
        },
        "id": "QAcjDj-R30wr",
        "outputId": "8cd70f33-6adc-4f5f-83fb-09b2828b98d7"
      },
      "source": [
        "model_type = \"gru\"\n",
        "n_epochs = 2000\n",
        "print_every = 100\n",
        "hidden_size = 100\n",
        "n_layers = 2\n",
        "learning_rate = 0.01\n",
        "chunk_len = 200\n",
        "batch_size = 100\n",
        "cuda = 0\n",
        "data = TextDataset('arxiv.csv', '/content/drive/MyDrive/Colab Notebooks/nlp_lab4/', 'csv', chunk_len, batch_size)\n",
        "gru_model = Model(hidden_size, learning_rate, chunk_len, \n",
        "                  batch_size, data, model_type, n_layers, cuda)\n",
        "gru_model.start_train(n_epochs, print_every)\n",
        "gru_model.plot_loss()"
      ],
      "execution_count": null,
      "outputs": [
        {
          "output_type": "stream",
          "text": [
            "\r  0%|          | 0/2000 [00:00<?, ?it/s]"
          ],
          "name": "stderr"
        },
        {
          "output_type": "stream",
          "text": [
            "Training for 2000 epochs...\n"
          ],
          "name": "stdout"
        },
        {
          "output_type": "stream",
          "text": [
            "  5%|▌         | 100/2000 [01:14<24:00,  1.32it/s]"
          ],
          "name": "stderr"
        },
        {
          "output_type": "stream",
          "text": [
            "[1m 14s (100 5%) 1.5785]\n",
            "Aentoring that to and sustas the bajerd tive of the paratomding motions. the ruct cature in a the mes \n",
            "\n"
          ],
          "name": "stdout"
        },
        {
          "output_type": "stream",
          "text": [
            " 10%|█         | 200/2000 [02:28<22:32,  1.33it/s]"
          ],
          "name": "stderr"
        },
        {
          "output_type": "stream",
          "text": [
            "[2m 28s (200 10%) 1.3642]\n",
            "Aor discovery the performance the been for has with the linear multi-one-of-the-addimity first be fir \n",
            "\n"
          ],
          "name": "stdout"
        },
        {
          "output_type": "stream",
          "text": [
            " 15%|█▌        | 300/2000 [03:42<21:04,  1.34it/s]"
          ],
          "name": "stderr"
        },
        {
          "output_type": "stream",
          "text": [
            "[3m 42s (300 15%) 1.2945]\n",
            "Aand or improvement possible integration is social with images policitic algorithms of the structure  \n",
            "\n"
          ],
          "name": "stdout"
        },
        {
          "output_type": "stream",
          "text": [
            " 20%|██        | 400/2000 [04:55<19:43,  1.35it/s]"
          ],
          "name": "stderr"
        },
        {
          "output_type": "stream",
          "text": [
            "[4m 55s (400 20%) 1.2552]\n",
            "Athe some in the source of higher tasks and decoveral forma and tools are abe continuous optimization \n",
            "\n"
          ],
          "name": "stdout"
        },
        {
          "output_type": "stream",
          "text": [
            " 25%|██▌       | 500/2000 [06:08<18:24,  1.36it/s]"
          ],
          "name": "stderr"
        },
        {
          "output_type": "stream",
          "text": [
            "[6m 8s (500 25%) 1.2242]\n",
            "Aprocess of this study architecture is to binal results are depth use over the input improve initial  \n",
            "\n"
          ],
          "name": "stdout"
        },
        {
          "output_type": "stream",
          "text": [
            " 30%|███       | 600/2000 [07:22<17:19,  1.35it/s]"
          ],
          "name": "stderr"
        },
        {
          "output_type": "stream",
          "text": [
            "[7m 22s (600 30%) 1.2487]\n",
            "Aa classification anshome. the corpus with noisy is indicate to analysis and some trajectories with h \n",
            "\n"
          ],
          "name": "stdout"
        },
        {
          "output_type": "stream",
          "text": [
            " 35%|███▌      | 700/2000 [08:35<16:17,  1.33it/s]"
          ],
          "name": "stderr"
        },
        {
          "output_type": "stream",
          "text": [
            "[8m 35s (700 35%) 1.2459]\n",
            "Arecently scale experimental repla better is can be semantic integrate the utilize of the important i \n",
            "\n"
          ],
          "name": "stdout"
        },
        {
          "output_type": "stream",
          "text": [
            " 40%|████      | 800/2000 [09:48<15:05,  1.33it/s]"
          ],
          "name": "stderr"
        },
        {
          "output_type": "stream",
          "text": [
            "[9m 48s (800 40%) 1.2062]\n",
            "Aassumption function in solvers neuch was contribution of relations as it has a listapline separal ob \n",
            "\n"
          ],
          "name": "stdout"
        },
        {
          "output_type": "stream",
          "text": [
            " 45%|████▌     | 900/2000 [11:02<13:45,  1.33it/s]"
          ],
          "name": "stderr"
        },
        {
          "output_type": "stream",
          "text": [
            "[11m 2s (900 45%) 1.2034]\n",
            "Adesign of words content. we also the fields between anlation image extension from uncertainty and sp \n",
            "\n"
          ],
          "name": "stdout"
        },
        {
          "output_type": "stream",
          "text": [
            " 50%|█████     | 1000/2000 [12:15<12:22,  1.35it/s]"
          ],
          "name": "stderr"
        },
        {
          "output_type": "stream",
          "text": [
            "[12m 15s (1000 50%) 1.2017]\n",
            "Aand security-frame complexities of a static strategies algorithms to selection tasks considered a gr \n",
            "\n"
          ],
          "name": "stdout"
        },
        {
          "output_type": "stream",
          "text": [
            " 55%|█████▌    | 1100/2000 [13:28<10:56,  1.37it/s]"
          ],
          "name": "stderr"
        },
        {
          "output_type": "stream",
          "text": [
            "[13m 28s (1100 55%) 1.2060]\n",
            "Adensible vertex layer connected by unique accurate the presented point as reduce the  space unreterm \n",
            "\n"
          ],
          "name": "stdout"
        },
        {
          "output_type": "stream",
          "text": [
            " 60%|██████    | 1200/2000 [14:40<09:56,  1.34it/s]"
          ],
          "name": "stderr"
        },
        {
          "output_type": "stream",
          "text": [
            "[14m 40s (1200 60%) 1.1823]\n",
            "Aproblem is a classifier we study the other tackle the research are resistorizing presented character \n",
            "\n"
          ],
          "name": "stdout"
        },
        {
          "output_type": "stream",
          "text": [
            " 65%|██████▌   | 1300/2000 [15:53<08:44,  1.34it/s]"
          ],
          "name": "stderr"
        },
        {
          "output_type": "stream",
          "text": [
            "[15m 53s (1300 65%) 1.1894]\n",
            "Abased on overthrings recent are multi-sources of streaming modeled control characterization the spac \n",
            "\n"
          ],
          "name": "stdout"
        },
        {
          "output_type": "stream",
          "text": [
            " 70%|███████   | 1400/2000 [17:06<07:23,  1.35it/s]"
          ],
          "name": "stderr"
        },
        {
          "output_type": "stream",
          "text": [
            "[17m 6s (1400 70%) 1.1984]\n",
            "Awith process and word results are end-neural closes viewpisal efficiency in two objectively expressi \n",
            "\n"
          ],
          "name": "stdout"
        },
        {
          "output_type": "stream",
          "text": [
            " 75%|███████▌  | 1500/2000 [18:18<06:08,  1.36it/s]"
          ],
          "name": "stderr"
        },
        {
          "output_type": "stream",
          "text": [
            "[18m 18s (1500 75%) 1.2197]\n",
            "Athe constraint-of-coding simulation employed extracting with the various change learning ratio is kn \n",
            "\n"
          ],
          "name": "stdout"
        },
        {
          "output_type": "stream",
          "text": [
            " 80%|████████  | 1600/2000 [19:31<04:54,  1.36it/s]"
          ],
          "name": "stderr"
        },
        {
          "output_type": "stream",
          "text": [
            "[19m 31s (1600 80%) 1.1720]\n",
            "Aand empirical spargue the offers consistential achieves in the fine providency text to controllers t \n",
            "\n"
          ],
          "name": "stdout"
        },
        {
          "output_type": "stream",
          "text": [
            " 85%|████████▌ | 1700/2000 [20:44<03:42,  1.35it/s]"
          ],
          "name": "stderr"
        },
        {
          "output_type": "stream",
          "text": [
            "[20m 44s (1700 85%) 1.1959]\n",
            "Aevents of counter benefically distributed network setting and the exone using the time on the exampl \n",
            "\n"
          ],
          "name": "stdout"
        },
        {
          "output_type": "stream",
          "text": [
            " 90%|█████████ | 1800/2000 [21:56<02:28,  1.35it/s]"
          ],
          "name": "stderr"
        },
        {
          "output_type": "stream",
          "text": [
            "[21m 56s (1800 90%) 1.1740]\n",
            "Avisual methods and human move the decomposal studies significant program on the first pointing on th \n",
            "\n"
          ],
          "name": "stdout"
        },
        {
          "output_type": "stream",
          "text": [
            " 95%|█████████▌| 1900/2000 [23:09<01:14,  1.35it/s]"
          ],
          "name": "stderr"
        },
        {
          "output_type": "stream",
          "text": [
            "[23m 9s (1900 95%) 1.1832]\n",
            "Acontroller coefficiently policies which computer to be the time from a time strategy a rate-based al \n",
            "\n"
          ],
          "name": "stdout"
        },
        {
          "output_type": "stream",
          "text": [
            "100%|██████████| 2000/2000 [24:21<00:00,  1.37it/s]"
          ],
          "name": "stderr"
        },
        {
          "output_type": "stream",
          "text": [
            "[24m 21s (2000 100%) 1.1923]\n",
            "Atree and representation lattically in the proposed or and us is not properties of a conditions learn \n",
            "\n"
          ],
          "name": "stdout"
        },
        {
          "output_type": "stream",
          "text": [
            "\n"
          ],
          "name": "stderr"
        },
        {
          "output_type": "display_data",
          "data": {
            "image/png": "[encoded data removed]",
            "text/plain": [
              "<Figure size 432x288 with 1 Axes>"
            ]
          },
          "metadata": {
            "tags": [],
            "needs_background": "light"
          }
        }
      ]
    },
    {
      "cell_type": "markdown",
      "metadata": {
        "id": "14V1jLRTjXiM"
      },
      "source": [
        "Примеры генерации gru model с разными температурами:"
      ]
    },
    {
      "cell_type": "code",
      "metadata": {
        "colab": {
          "base_uri": "https://localhost:8080/"
        },
        "id": "-_mIc_QihO_R",
        "outputId": "4140e003-270e-4821-9429-0cea29d14fc5"
      },
      "source": [
        "for temperature in np.arange(0.2, 1, 0.1):\n",
        "    print('temperature = %.1f' % temperature, ' ', gru_model.generate('The system is robust ', 100, temperature=temperature))"
      ],
      "execution_count": null,
      "outputs": [
        {
          "output_type": "stream",
          "text": [
            "temperature = 0.2   The system is robust to the state-of-the-art state-of-the-art construction of the state and the structure that in the sta\n",
            "temperature = 0.3   The system is robust structure the results of results of the survey the state-of-the-art of the method of the states of t\n",
            "temperature = 0.4   The system is robust to reconstruction and linear of the results for the all transformations and distribution and the int\n",
            "temperature = 0.5   The system is robust the experiments of a source discrete in particular we can be consider state-of-the-art transformatio\n",
            "temperature = 0.6   The system is robust to construction problem complexity of a transformation that of solutions including model to the stat\n",
            "temperature = 0.7   The system is robust communicating copased beniches visual equivalent specifically the analysis of secret convergence sim\n",
            "temperature = 0.8   The system is robust computer at the strext experimental patterns between soliding to another results are new first the e\n",
            "temperature = 0.9   The system is robust linear dataset. showint into their all random despite results on the route the improved layer transf\n"
          ],
          "name": "stdout"
        }
      ]
    },
    {
      "cell_type": "markdown",
      "metadata": {
        "id": "rqCiYJQZVDg8"
      },
      "source": [
        "Чем выше температура, тем разнообразнее набор слов. Но при этом чаще встречаются ошибки в словах"
      ]
    },
    {
      "cell_type": "markdown",
      "metadata": {
        "id": "jRbff8zkTU7Z"
      },
      "source": [
        "###LSTM model"
      ]
    },
    {
      "cell_type": "code",
      "metadata": {
        "colab": {
          "base_uri": "https://localhost:8080/",
          "height": 1000
        },
        "id": "LZ7-SVi1kIdl",
        "outputId": "d7bd6c6d-f793-4d90-d1a7-c448c16921a7"
      },
      "source": [
        "model_type = \"lstm\"\n",
        "n_epochs = 2000\n",
        "print_every = 100\n",
        "hidden_size = 100\n",
        "n_layers = 2\n",
        "learning_rate = 0.01\n",
        "chunk_len = 200\n",
        "batch_size = 100\n",
        "cuda = 0\n",
        "data = TextDataset('arxiv.csv', '/content/drive/MyDrive/Colab Notebooks/nlp_lab4/', 'csv', chunk_len, batch_size)\n",
        "lstm_model = Model(hidden_size, learning_rate, chunk_len, \n",
        "                  batch_size, data, model_type, n_layers, cuda)\n",
        "lstm_model.start_train(n_epochs, print_every)\n",
        "lstm_model.plot_loss()"
      ],
      "execution_count": null,
      "outputs": [
        {
          "output_type": "stream",
          "text": [
            "\r  0%|          | 0/2000 [00:00<?, ?it/s]"
          ],
          "name": "stderr"
        },
        {
          "output_type": "stream",
          "text": [
            "Training for 2000 epochs...\n"
          ],
          "name": "stdout"
        },
        {
          "output_type": "stream",
          "text": [
            "  5%|▌         | 100/2000 [01:26<28:19,  1.12it/s]"
          ],
          "name": "stderr"
        },
        {
          "output_type": "stream",
          "text": [
            "[1m 26s (100 5%) 1.8291]\n",
            "Aespen by besated the of and. we ablaties to palimites ondew application in canto firvern we not or t \n",
            "\n"
          ],
          "name": "stdout"
        },
        {
          "output_type": "stream",
          "text": [
            " 10%|█         | 200/2000 [02:53<26:03,  1.15it/s]"
          ],
          "name": "stderr"
        },
        {
          "output_type": "stream",
          "text": [
            "[2m 53s (200 10%) 1.5176]\n",
            "Aof dmodts a network the new algoriby mobution call that of be performarized consistent as audlows op \n",
            "\n"
          ],
          "name": "stdout"
        },
        {
          "output_type": "stream",
          "text": [
            " 15%|█▌        | 300/2000 [04:19<24:37,  1.15it/s]"
          ],
          "name": "stderr"
        },
        {
          "output_type": "stream",
          "text": [
            "[4m 19s (300 15%) 1.3621]\n",
            "Afake unputs the space. only conceptation and the proposed on subbly for a continuous computation the \n",
            "\n"
          ],
          "name": "stdout"
        },
        {
          "output_type": "stream",
          "text": [
            " 20%|██        | 400/2000 [05:46<23:39,  1.13it/s]"
          ],
          "name": "stderr"
        },
        {
          "output_type": "stream",
          "text": [
            "[5m 46s (400 20%) 1.3358]\n",
            "Aalgorithm on system of setwares requirements and for the present the proposed or the generalized wit \n",
            "\n"
          ],
          "name": "stdout"
        },
        {
          "output_type": "stream",
          "text": [
            " 25%|██▌       | 500/2000 [07:12<21:53,  1.14it/s]"
          ],
          "name": "stderr"
        },
        {
          "output_type": "stream",
          "text": [
            "[7m 12s (500 25%) 1.2847]\n",
            "Alearning for this approach and analysis of the vision of each complet operative on the propose a mod \n",
            "\n"
          ],
          "name": "stdout"
        },
        {
          "output_type": "stream",
          "text": [
            " 30%|███       | 600/2000 [08:37<20:10,  1.16it/s]"
          ],
          "name": "stderr"
        },
        {
          "output_type": "stream",
          "text": [
            "[8m 37s (600 30%) 1.2621]\n",
            "Athe about the end-finding the consists of recovering assuming scale algorithm fapating estimate the  \n",
            "\n"
          ],
          "name": "stdout"
        },
        {
          "output_type": "stream",
          "text": [
            " 35%|███▌      | 700/2000 [10:03<18:39,  1.16it/s]"
          ],
          "name": "stderr"
        },
        {
          "output_type": "stream",
          "text": [
            "[10m 2s (700 35%) 1.2466]\n",
            "Amultiple visual framework an encoder-way the features can to estimated lassuations and has computer  \n",
            "\n"
          ],
          "name": "stdout"
        },
        {
          "output_type": "stream",
          "text": [
            " 40%|████      | 800/2000 [11:28<17:26,  1.15it/s]"
          ],
          "name": "stderr"
        },
        {
          "output_type": "stream",
          "text": [
            "[11m 28s (800 40%) 1.2339]\n",
            "Aa games. introduce that a descent the not polynomisis accurate the finite representations of the con \n",
            "\n"
          ],
          "name": "stdout"
        },
        {
          "output_type": "stream",
          "text": [
            " 45%|████▌     | 900/2000 [12:54<15:51,  1.16it/s]"
          ],
          "name": "stderr"
        },
        {
          "output_type": "stream",
          "text": [
            "[12m 54s (900 45%) 1.2473]\n",
            "Anonstanding fored constructed detect of these at it is spectract has entity also scorce construct fr \n",
            "\n"
          ],
          "name": "stdout"
        },
        {
          "output_type": "stream",
          "text": [
            " 50%|█████     | 1000/2000 [14:19<14:24,  1.16it/s]"
          ],
          "name": "stderr"
        },
        {
          "output_type": "stream",
          "text": [
            "[14m 19s (1000 50%) 1.2399]\n",
            "Aneural network tepsss are in the resities. the wlight 2016-k> can be times for 700 transitional chou \n",
            "\n"
          ],
          "name": "stdout"
        },
        {
          "output_type": "stream",
          "text": [
            " 55%|█████▌    | 1100/2000 [15:44<13:15,  1.13it/s]"
          ],
          "name": "stderr"
        },
        {
          "output_type": "stream",
          "text": [
            "[15m 44s (1100 55%) 1.2034]\n",
            "Aallowes into and space for using the confidence exchannel supponering the introduce a sefment image  \n",
            "\n"
          ],
          "name": "stdout"
        },
        {
          "output_type": "stream",
          "text": [
            " 60%|██████    | 1200/2000 [17:09<11:29,  1.16it/s]"
          ],
          "name": "stderr"
        },
        {
          "output_type": "stream",
          "text": [
            "[17m 9s (1200 60%) 1.2308]\n",
            "Athe low-importantly grank benefits can be full is often stage and the strange of individe heary alge \n",
            "\n"
          ],
          "name": "stdout"
        },
        {
          "output_type": "stream",
          "text": [
            " 65%|██████▌   | 1300/2000 [18:34<10:00,  1.17it/s]"
          ],
          "name": "stderr"
        },
        {
          "output_type": "stream",
          "text": [
            "[18m 34s (1300 65%) 1.1749]\n",
            "Awe propose a new networks. the matro-labels of concepts of our optimal approaches where our learn to \n",
            "\n"
          ],
          "name": "stdout"
        },
        {
          "output_type": "stream",
          "text": [
            " 70%|███████   | 1400/2000 [19:58<08:36,  1.16it/s]"
          ],
          "name": "stderr"
        },
        {
          "output_type": "stream",
          "text": [
            "[19m 58s (1400 70%) 1.1943]\n",
            "Aframework in the tasks the first problem where the computational highly single set of cloud research \n",
            "\n"
          ],
          "name": "stdout"
        },
        {
          "output_type": "stream",
          "text": [
            " 75%|███████▌  | 1500/2000 [21:23<07:14,  1.15it/s]"
          ],
          "name": "stderr"
        },
        {
          "output_type": "stream",
          "text": [
            "[21m 23s (1500 75%) 1.1837]\n",
            "Aalgorithms in users in the most fi-nlc. the detection and in the important supprics and loss of the  \n",
            "\n"
          ],
          "name": "stdout"
        },
        {
          "output_type": "stream",
          "text": [
            " 80%|████████  | 1600/2000 [22:48<05:49,  1.15it/s]"
          ],
          "name": "stderr"
        },
        {
          "output_type": "stream",
          "text": [
            "[22m 48s (1600 80%) 1.1914]\n",
            "Acompared where system. we however the compression and at a features in traffic multichanges for a me \n",
            "\n"
          ],
          "name": "stdout"
        },
        {
          "output_type": "stream",
          "text": [
            " 85%|████████▌ | 1700/2000 [24:13<04:16,  1.17it/s]"
          ],
          "name": "stderr"
        },
        {
          "output_type": "stream",
          "text": [
            "[24m 13s (1700 85%) 1.2089]\n",
            "Acase of representation and features. makes the discrimination in 2007 network exceary one goal four  \n",
            "\n"
          ],
          "name": "stdout"
        },
        {
          "output_type": "stream",
          "text": [
            " 90%|█████████ | 1800/2000 [25:38<02:53,  1.15it/s]"
          ],
          "name": "stderr"
        },
        {
          "output_type": "stream",
          "text": [
            "[25m 38s (1800 90%) 1.1813]\n",
            "Aof the basition at programs which control on the proposed computation and speech often applying the  \n",
            "\n"
          ],
          "name": "stdout"
        },
        {
          "output_type": "stream",
          "text": [
            " 95%|█████████▌| 1900/2000 [27:02<01:24,  1.18it/s]"
          ],
          "name": "stderr"
        },
        {
          "output_type": "stream",
          "text": [
            "[27m 2s (1900 95%) 1.1961]\n",
            "Athey optimize discusticle that they are the alignment of the ratios and of the behaviors in the exte \n",
            "\n"
          ],
          "name": "stdout"
        },
        {
          "output_type": "stream",
          "text": [
            "100%|██████████| 2000/2000 [28:27<00:00,  1.17it/s]"
          ],
          "name": "stderr"
        },
        {
          "output_type": "stream",
          "text": [
            "[28m 27s (2000 100%) 1.1410]\n",
            "Acan online it also shop service strongly of the developed to experiments a class of model with activ \n",
            "\n"
          ],
          "name": "stdout"
        },
        {
          "output_type": "stream",
          "text": [
            "\n"
          ],
          "name": "stderr"
        },
        {
          "output_type": "display_data",
          "data": {
            "image/png": "[encoded data removed]",
            "text/plain": [
              "<Figure size 432x288 with 1 Axes>"
            ]
          },
          "metadata": {
            "tags": [],
            "needs_background": "light"
          }
        }
      ]
    },
    {
      "cell_type": "code",
      "metadata": {
        "colab": {
          "base_uri": "https://localhost:8080/"
        },
        "id": "i_1Ri3CiqYjT",
        "outputId": "0b825560-f20c-4953-a8be-5d45f42599b5"
      },
      "source": [
        "for temperature in np.arange(0.2, 1, 0.1):\n",
        "    print('temperature = %.1f' % temperature, ' ', lstm_model.generate('The system is robust ', 100, temperature=temperature))"
      ],
      "execution_count": null,
      "outputs": [
        {
          "output_type": "stream",
          "text": [
            "temperature = 0.2   The system is robust to the state-of-the-art constraints and the security and the state-of-the-art control and the contro\n",
            "temperature = 0.3   The system is robust problems in the state-of-the-art and significant analysis of the decision of the second of the model\n",
            "temperature = 0.4   The system is robust distributed are not consider the users and performance for the and the solutions with a set of the d\n",
            "temperature = 0.5   The system is robust to the distribution of the results from this paper strength of model to decision and the article in \n",
            "temperature = 0.6   The system is robust to develop the policy of power to previous algorithm content for the realistic problems that related\n",
            "temperature = 0.7   The system is robust solving change that situation method we call a node in the-art controller and the constraint that ap\n",
            "temperature = 0.8   The system is robust to speedubleakency representation in in the-ones bounds show that. the randomized parameterization o\n",
            "temperature = 0.9   The system is robust adaptive graph protocol from content and the vehicle is a paralleme when larger dynamic infinitial m\n"
          ],
          "name": "stdout"
        }
      ]
    },
    {
      "cell_type": "markdown",
      "metadata": {
        "id": "bfe7fIyO2Q3K"
      },
      "source": [
        "Поэкспериментируем с числом слоев на примере LSTM архитектуры. Увеличение количества слоев усложняет модель, соответсвенно время тренировки тоже увеличится\n",
        "\n",
        "Увеличим количество слоев до 3, остальные параметры без изменений\n"
      ]
    },
    {
      "cell_type": "code",
      "metadata": {
        "colab": {
          "base_uri": "https://localhost:8080/",
          "height": 1000
        },
        "id": "RDOMSs-P2Ed3",
        "outputId": "648e06fa-61cf-48a6-9d4e-d50eef81d798"
      },
      "source": [
        "model_type = \"lstm\"\n",
        "n_epochs = 2000\n",
        "print_every = 100\n",
        "hidden_size = 100\n",
        "n_layers = 3\n",
        "learning_rate = 0.01\n",
        "chunk_len = 200\n",
        "batch_size = 100\n",
        "cuda = 0\n",
        "data = TextDataset('arxiv.csv', '/content/drive/MyDrive/Colab Notebooks/nlp_lab4/', 'csv', chunk_len, batch_size)\n",
        "lstm_model = Model(hidden_size, learning_rate, chunk_len, \n",
        "                  batch_size, data, model_type, n_layers, cuda)\n",
        "lstm_model.start_train(n_epochs, print_every)\n",
        "lstm_model.plot_loss()"
      ],
      "execution_count": null,
      "outputs": [
        {
          "output_type": "stream",
          "text": [
            "Training for 2000 epochs...\n",
            "[2m 11s (100 5%) 2.5489]\n",
            "Amimicocet monme fas roanse  anget longegchintdin sso ninrenfuren ans tes oto s i-chean ne ticernodet \n",
            "\n",
            "[4m 22s (200 10%) 2.0511]\n",
            "Aange miding in-kan ingentces we a poocets ommisate ant lembulular nitios fard pelecgrt bithen porsix \n",
            "\n",
            "[6m 33s (300 15%) 1.7366]\n",
            "Aos with comparicsided naturition of be vilarificit x gragaeed conplens sefine actric low cmn for a a \n",
            "\n",
            "[8m 44s (400 20%) 1.5576]\n",
            "Aconsel develop base alters of these static obtain moxel bounle the parable gribution and predicties  \n",
            "\n",
            "[10m 56s (500 25%) 1.4514]\n",
            "Ain as the dete we bilits are visian more of pair shan when computing the classity only the implicate \n",
            "\n",
            "[13m 7s (600 30%) 1.3668]\n",
            "Aentances of the model agains is case the lerning and pair in the in the wigore for distrifle from se \n",
            "\n",
            "[15m 18s (700 35%) 1.3562]\n",
            "Aa setting tasks it wesology based models we propose classification and parameter in the present codi \n",
            "\n",
            "[17m 28s (800 40%) 1.3062]\n",
            "Aparson to the approach to lineering the proposed for scenarion disect sybt be however methodsoul gen \n",
            "\n",
            "[19m 39s (900 45%) 1.2959]\n",
            "Ainterlet of abme be improve the are shoirs marticular show that these which reach class from the fit \n",
            "\n",
            "[21m 50s (1000 50%) 1.2559]\n",
            "Acontrol a models of construction of convex spaking architectures the limitation we can be one on the \n",
            "\n",
            "[24m 1s (1100 55%) 1.2312]\n",
            "Adelees structal network we comparable datasets actions are degree multi-context and operates as an e \n",
            "\n",
            "[26m 11s (1200 60%) 1.2879]\n",
            "Anumber as for vulnerage in one we use of onlinatess of the finally for the put one basesiames and si \n",
            "\n",
            "[28m 21s (1300 65%) 1.2433]\n",
            "Afar in maly all forming function of such as the critical comparable to constraintseling minimination \n",
            "\n",
            "[30m 32s (1400 70%) 1.1963]\n",
            "Asignals and anience while the such as power is a sets the f-is average is a fact the exact propertie \n",
            "\n",
            "[32m 42s (1500 75%) 1.1757]\n",
            "Apances are the consistent selection in can be first a class and series of the prone learning of colo \n",
            "\n",
            "[34m 52s (1600 80%) 1.2406]\n",
            "Athe with such that notour based for complex explore difficiently to emp variability of search from i \n",
            "\n",
            "[37m 3s (1700 85%) 1.2287]\n",
            "Acomputational user of the tan the bayes for the model the scheme data in this paper we other model i \n",
            "\n",
            "[39m 13s (1800 90%) 1.2059]\n",
            "Adocument of the system function meaning spaces of the edge of the platform our framework module a we \n",
            "\n",
            "[41m 23s (1900 95%) 1.2009]\n",
            "Afor completely interoperation is on a human estimated to reduce of the small automated for moments o \n",
            "\n",
            "[43m 33s (2000 100%) 1.1797]\n",
            "Adissum the standard to the use overfiyers we propose at network models we derive a difficult non-cou \n",
            "\n"
          ],
          "name": "stdout"
        },
        {
          "output_type": "display_data",
          "data": {
            "image/png": "[encoded data removed]",
            "text/plain": [
              "<Figure size 432x288 with 1 Axes>"
            ]
          },
          "metadata": {
            "tags": [],
            "needs_background": "light"
          }
        }
      ]
    },
    {
      "cell_type": "code",
      "metadata": {
        "colab": {
          "base_uri": "https://localhost:8080/"
        },
        "id": "Q2pPH8a0N-KS",
        "outputId": "86a1e847-5dfb-490a-c85d-e2da3d0929ef"
      },
      "source": [
        "for temperature in np.arange(0.2, 1.5, 0.1):\n",
        "    print('temperature = %.1f' % temperature, ' ', lstm_model.generate('The system is robust ', 100, temperature=temperature))"
      ],
      "execution_count": null,
      "outputs": [
        {
          "output_type": "stream",
          "text": [
            "temperature = 0.2   The system is robust to design the semantic internet of the proposed network and the state of the proposed proposed metho\n",
            "temperature = 0.3   The system is robust the approach to address the proposed control polynomial simulation and the proposed approach to addi\n",
            "temperature = 0.4   The system is robust and computes a subset of the first proposed to consider the result of the algorithm of our strength \n",
            "temperature = 0.5   The system is robust a previous proposed proposed should be which for a complex framework to strong and the group that th\n",
            "temperature = 0.6   The system is robust clusters on an easily used to services and improves implemented to learn of a learning half states s\n",
            "temperature = 0.7   The system is robust performance using performance and the conclusion for shape for a features we propose a version while\n",
            "temperature = 0.8   The system is robust approach is consider a binary popular method of do pirearpwe propose to the proposed round different\n",
            "temperature = 0.9   The system is robust parsings the privacy of the privacy reloosibraries constructed as artificiolles condition and motion\n",
            "temperature = 1.0   The system is robust the simulations of the usen the rounds and program has formulate the oric between a private histor -\n",
            "temperature = 1.1   The system is robust nodithbile beingges on thep towards between orthogowid while enabling it method afd uplid squally co\n",
            "temperature = 1.2   The system is robust people-lassois of learningations circupfixstow eyenvalues to gemorphics of the result ways second to\n",
            "temperature = 1.3   The system is robust mobilityoutethem-aspectry complexitys n network algorithm wc we fir now shensermicly domain of and n\n",
            "temperature = 1.4   The system is robust analytic variant eg combracted forieves witheb to qkeller representations tested available dimending\n"
          ],
          "name": "stdout"
        }
      ]
    },
    {
      "cell_type": "markdown",
      "metadata": {
        "id": "Hz3OIJWpR9Sq"
      },
      "source": [
        "**Проведем эксперименты с разным значением параметра hidden_size для GRU и LSTM архитектур**\n",
        "\n",
        "Количество эпох уменьшим до 1000 : *n_epochs = 1000*\n",
        "\n",
        "Зафиксируем количество слоев *n_layers = 2*, так как изменение в количество слоев не улучшило качество генерации текста\n",
        "\n",
        "Параметры *chunk_len = 200* и *batch_size = 100*, полученные в прошлых экспериментах, также оставляем без изменений\n",
        "\n"
      ]
    },
    {
      "cell_type": "code",
      "metadata": {
        "id": "5yVaNNa1SGAR",
        "colab": {
          "base_uri": "https://localhost:8080/",
          "height": 1000
        },
        "outputId": "5ae75f01-ce35-4b53-f662-b86642044404"
      },
      "source": [
        "model_types = [\"lstm\", \"gru\"]\n",
        "hidden_sizes = [128, 256]\n",
        "\n",
        "n_epochs = 1000\n",
        "print_every = 1000\n",
        "n_layers = 2\n",
        "learning_rate = 0.01\n",
        "chunk_len = 200\n",
        "batch_size = 100\n",
        "cuda = 0\n",
        "data = TextDataset('arxiv.csv', '/content/drive/MyDrive/Colab Notebooks/nlp_lab4/', 'csv', chunk_len, batch_size)\n",
        "\n",
        "for model_type in model_types:\n",
        "    for hidden_size in hidden_sizes:\n",
        "        print('Model type =', model_type, ', hidden_size =', hidden_size)\n",
        "        model = Model(hidden_size, learning_rate, chunk_len, \n",
        "                          batch_size, data, model_type, n_layers, cuda)\n",
        "        model.start_train(n_epochs, print_every)\n",
        "        model.plot_loss('Model type=' + str(model_type) + ', hidden_size=' + str(hidden_size))\n"
      ],
      "execution_count": null,
      "outputs": [
        {
          "output_type": "stream",
          "text": [
            "Model type = lstm , hidden_size = 128\n",
            "Training for 1000 epochs...\n",
            "[17m 21s (1000 100%) 1.1672]\n",
            "Abeand in the discrete also musticate the images we show that these that close state-of-the-art plann \n",
            "\n"
          ],
          "name": "stdout"
        },
        {
          "output_type": "display_data",
          "data": {
            "image/png": "[encoded data removed]",
            "text/plain": [
              "<Figure size 432x288 with 1 Axes>"
            ]
          },
          "metadata": {
            "tags": []
          }
        },
        {
          "output_type": "stream",
          "text": [
            "Model type = lstm , hidden_size = 256\n",
            "Training for 1000 epochs...\n",
            "[48m 53s (1000 100%) 1.1744]\n",
            "Adata. the resulting to the applications. the uncertainty been predicted to leverages for learning da \n",
            "\n"
          ],
          "name": "stdout"
        },
        {
          "output_type": "display_data",
          "data": {
            "image/png": "[encoded data removed]",
            "text/plain": [
              "<Figure size 432x288 with 1 Axes>"
            ]
          },
          "metadata": {
            "tags": [],
            "needs_background": "light"
          }
        },
        {
          "output_type": "stream",
          "text": [
            "Model type = gru , hidden_size = 128\n",
            "Training for 1000 epochs...\n",
            "[14m 22s (1000 100%) 1.1574]\n",
            "Aa proposed and advantalization. for the algorithm to be used in the two applications while the more  \n",
            "\n"
          ],
          "name": "stdout"
        },
        {
          "output_type": "display_data",
          "data": {
            "image/png": "[encoded data removed]",
            "text/plain": [
              "<Figure size 432x288 with 1 Axes>"
            ]
          },
          "metadata": {
            "tags": [],
            "needs_background": "light"
          }
        },
        {
          "output_type": "stream",
          "text": [
            "Model type = gru , hidden_size = 256\n",
            "Training for 1000 epochs...\n",
            "[38m 36s (1000 100%) 1.1983]\n",
            "Afor optimized general estimation sparse neural network and related for out of hold not search. the l \n",
            "\n"
          ],
          "name": "stdout"
        },
        {
          "output_type": "display_data",
          "data": {
            "image/png": "[encoded data removed]",
            "text/plain": [
              "<Figure size 432x288 with 1 Axes>"
            ]
          },
          "metadata": {
            "tags": [],
            "needs_background": "light"
          }
        }
      ]
    },
    {
      "cell_type": "markdown",
      "metadata": {
        "id": "DZ_g0iNran2A"
      },
      "source": [
        "## Результаты тренировки"
      ]
    },
    {
      "cell_type": "markdown",
      "metadata": {
        "id": "y_xBUa0QeG9D"
      },
      "source": [
        "Натренируем финальную модель со следующими параметрами:"
      ]
    },
    {
      "cell_type": "code",
      "metadata": {
        "colab": {
          "base_uri": "https://localhost:8080/",
          "height": 1000
        },
        "id": "agIocpOIq1qh",
        "outputId": "7d4ca470-c6f4-451b-e8e7-6dabebc90fa5"
      },
      "source": [
        "model_type = \"gru\"\n",
        "n_epochs = 2000\n",
        "print_every = 100\n",
        "hidden_size = 128\n",
        "n_layers = 2\n",
        "learning_rate = 0.01\n",
        "chunk_len = 200\n",
        "batch_size = 100\n",
        "cuda = 0\n",
        "data = TextDataset('arxiv.csv', '/content/drive/MyDrive/Colab Notebooks/nlp_lab4/', 'csv', chunk_len, batch_size)\n",
        "final_model = Model(hidden_size, learning_rate, chunk_len, \n",
        "                  batch_size, data, model_type, n_layers, cuda)\n",
        "final_model.start_train(n_epochs, print_every)\n",
        "final_model.plot_loss()"
      ],
      "execution_count": null,
      "outputs": [
        {
          "output_type": "stream",
          "text": [
            "Training for 2000 epochs...\n",
            "[1m 44s (100 5%) 1.4568]\n",
            "Awaxk their results of the glop assem with a mechay such soch difference untergenessly ching conseval \n",
            "\n",
            "[3m 28s (200 10%) 1.2933]\n",
            "Aa visual control forward generate amounts to a language of true difficiency general multiple and exi \n",
            "\n",
            "[5m 11s (300 15%) 1.2315]\n",
            "Ahyparse testing descrive the rank information we show roup behind the method in interaction solution \n",
            "\n",
            "[6m 55s (400 20%) 1.2256]\n",
            "Ascorest authentic at the environment that has been prival sensities and the categories since communi \n",
            "\n",
            "[8m 38s (500 25%) 1.1747]\n",
            "Aakent the minory in a framework sease of network global for re-dimension of identities individual co \n",
            "\n",
            "[10m 21s (600 30%) 1.1825]\n",
            "Akey separation in the fith in this paper is a previous transformation map of our models we primes we \n",
            "\n",
            "[12m 4s (700 35%) 1.1959]\n",
            "A1 of the training an information using a data the observation of the reduced that the mechanism over \n",
            "\n",
            "[13m 47s (800 40%) 1.1919]\n",
            "Aa computation into the framework relay away and interpretable of evaluating the optimizations to pre \n",
            "\n",
            "[15m 30s (900 45%) 1.1772]\n",
            "Acontained across for the maximum probabilistic finally detection small learning different and dimens \n",
            "\n",
            "[17m 13s (1000 50%) 1.1934]\n",
            "Ais the multi-codes we propose to in constraints in the referred or and developmensing the wide compu \n",
            "\n",
            "[18m 55s (1100 55%) 1.1668]\n",
            "Aof a selection in controlled of results on a computationally proposed results with claime to clean o \n",
            "\n",
            "[20m 39s (1200 60%) 1.1319]\n",
            "Awith prepresent these action for computation between machine point we show that the fast steps we co \n",
            "\n",
            "[22m 22s (1300 65%) 1.1811]\n",
            "Athen the proposed approach our methods for dys uikit one of the present information enhance cases of \n",
            "\n",
            "[24m 5s (1400 70%) 1.1754]\n",
            "Aof general theorem of 1381 2012 and the access required access with the computational can be the cap \n",
            "\n",
            "[25m 49s (1500 75%) 1.1434]\n",
            "Adata and provides the deterministic of the poster networks such as multiple carrial considering a ve \n",
            "\n",
            "[27m 32s (1600 80%) 1.1583]\n",
            "Aa features gan to akain to use the cover satisfactory faceted of constraints personalised for some s \n",
            "\n",
            "[29m 15s (1700 85%) 1.1865]\n",
            "Ai of concert states is reaching technology at link involvent study to accommodes in input model is o \n",
            "\n",
            "[30m 58s (1800 90%) 1.1678]\n",
            "Asignal xnd collectively over these detection re-describing motions with these tasks while its presen \n",
            "\n",
            "[32m 40s (1900 95%) 1.1584]\n",
            "Athat this notions from the accuracy for the advantage of systems and correct the physical motion ord \n",
            "\n",
            "[34m 23s (2000 100%) 1.1713]\n",
            "Aevaluation for the throughput a packing different recent functional assigned systemsmuss sampling of \n",
            "\n"
          ],
          "name": "stdout"
        },
        {
          "output_type": "display_data",
          "data": {
            "image/png": "[encoded data removed]",
            "text/plain": [
              "<Figure size 432x288 with 1 Axes>"
            ]
          },
          "metadata": {
            "tags": [],
            "needs_background": "light"
          }
        }
      ]
    },
    {
      "cell_type": "code",
      "metadata": {
        "colab": {
          "base_uri": "https://localhost:8080/",
          "height": 52
        },
        "id": "wMQfXmV1rDV_",
        "outputId": "e8e4e6c2-7987-4f31-cec7-c2e59aec8b7b"
      },
      "source": [
        "final_model.generate('To summarize ', 300, temperature=0.7)"
      ],
      "execution_count": null,
      "outputs": [
        {
          "output_type": "execute_result",
          "data": {
            "application/vnd.google.colaboratory.intrinsic+json": {
              "type": "string"
            },
            "text/plain": [
              "'To summarize the uniform that it long-showed the structure of short af new algorithms that are to repositories of the qualitation our approach to influence to survey the first channel approaches this problem of any learning approach to obtain this algorithm is adeference of the intermining a delta-compared to th'"
            ]
          },
          "metadata": {
            "tags": []
          },
          "execution_count": 52
        }
      ]
    },
    {
      "cell_type": "markdown",
      "metadata": {
        "id": "k4-MqjYH55pT"
      },
      "source": [
        "# Работа с собственным датасетом"
      ]
    },
    {
      "cell_type": "markdown",
      "metadata": {
        "id": "j-43pUacpfU1"
      },
      "source": [
        "В качестве русскоязычного датасета для генерации текстов были выбраны тексты группы \"Кровосток\""
      ]
    },
    {
      "cell_type": "markdown",
      "metadata": {
        "id": "pZS_PV40p2FY"
      },
      "source": [
        "Повторим тот же pipeline"
      ]
    },
    {
      "cell_type": "code",
      "metadata": {
        "colab": {
          "base_uri": "https://localhost:8080/",
          "height": 1000
        },
        "id": "D44S6DtQNPy3",
        "outputId": "a9956869-c49c-4972-b3d1-f2edd3c045cb"
      },
      "source": [
        "model_types = [\"lstm\", \"gru\"]\n",
        "hidden_sizes = [128, 256]\n",
        "\n",
        "n_epochs = 1000\n",
        "print_every = 1000\n",
        "n_layers = 2\n",
        "learning_rate = 0.01\n",
        "chunk_len = 200\n",
        "batch_size = 30\n",
        "cuda = 0\n",
        "data = TextDataset('krovostok.txt', '/content/drive/MyDrive/Colab Notebooks/nlp_lab4/', 'txt', chunk_len, batch_size)\n",
        "\n",
        "for model_type in model_types:\n",
        "    for hidden_size in hidden_sizes:\n",
        "        print('Model type =', model_type, ', hidden_size =', hidden_size)\n",
        "        krovostok_model = Model(hidden_size, learning_rate, chunk_len, \n",
        "                          batch_size, data, model_type, n_layers, cuda)\n",
        "        krovostok_model.start_train(n_epochs, print_every)\n",
        "        krovostok_model.plot_loss('Model type=' + str(model_type) + ', hidden_size=' + str(hidden_size))"
      ],
      "execution_count": null,
      "outputs": [
        {
          "output_type": "stream",
          "text": [
            "Model type = lstm , hidden_size = 128\n",
            "Training for 1000 epochs...\n",
            "[9m 12s (1000 100%) 0.2399]\n",
            "Aпод второго не до закуршить грабить слова однополово, всегда что так же помнятия и дальше падал голи \n",
            "\n"
          ],
          "name": "stdout"
        },
        {
          "output_type": "display_data",
          "data": {
            "image/png": "[encoded data removed]",
            "text/plain": [
              "<Figure size 432x288 with 1 Axes>"
            ]
          },
          "metadata": {
            "tags": [],
            "needs_background": "light"
          }
        },
        {
          "output_type": "stream",
          "text": [
            "Model type = lstm , hidden_size = 256\n",
            "Training for 1000 epochs...\n",
            "[22m 40s (1000 100%) 0.1815]\n",
            "Aсебя, это в пизду но кто острой теме. я делаю свой пых-пых святые на стволах бросил гранату разбрызг \n",
            "\n"
          ],
          "name": "stdout"
        },
        {
          "output_type": "display_data",
          "data": {
            "image/png": "[encoded data removed]",
            "text/plain": [
              "<Figure size 432x288 with 1 Axes>"
            ]
          },
          "metadata": {
            "tags": [],
            "needs_background": "light"
          }
        },
        {
          "output_type": "stream",
          "text": [
            "Model type = gru , hidden_size = 128\n",
            "Training for 1000 epochs...\n",
            "[7m 43s (1000 100%) 0.7025]\n",
            "Aслой. позорыды, бок любую питаться, и похуемправов и пока долбил у предсталось препаласный и гаши, н \n",
            "\n"
          ],
          "name": "stdout"
        },
        {
          "output_type": "display_data",
          "data": {
            "image/png": "[encoded data removed]",
            "text/plain": [
              "<Figure size 432x288 with 1 Axes>"
            ]
          },
          "metadata": {
            "tags": [],
            "needs_background": "light"
          }
        },
        {
          "output_type": "stream",
          "text": [
            "Model type = gru , hidden_size = 256\n",
            "Training for 1000 epochs...\n",
            "[17m 25s (1000 100%) 0.4015]\n",
            "Aдетпевается, я светлые всё наполовину полон, на пох у волгу я пох ты не смогу я видец, ты это в этом \n",
            "\n"
          ],
          "name": "stdout"
        },
        {
          "output_type": "display_data",
          "data": {
            "image/png": "[encoded data removed]",
            "text/plain": [
              "<Figure size 432x288 with 1 Axes>"
            ]
          },
          "metadata": {
            "tags": [],
            "needs_background": "light"
          }
        }
      ]
    },
    {
      "cell_type": "markdown",
      "metadata": {
        "id": "L0hlGIAKPXCa"
      },
      "source": [
        "###Итоговая модель"
      ]
    },
    {
      "cell_type": "code",
      "metadata": {
        "id": "eKxaIMDY6CMg",
        "colab": {
          "base_uri": "https://localhost:8080/",
          "height": 930
        },
        "outputId": "0d85e9da-5ae5-4cdd-90cc-00d256210d10"
      },
      "source": [
        "model_type = \"lstm\"\n",
        "hidden_size = 256\n",
        "n_epochs = 1200\n",
        "print_every = 100\n",
        "n_layers = 2\n",
        "learning_rate = 0.01\n",
        "chunk_len = 200\n",
        "batch_size = 30\n",
        "cuda = 0\n",
        "data = TextDataset('krovostok.txt', '/content/drive/MyDrive/Colab Notebooks/nlp_lab4/', 'txt', chunk_len, batch_size)\n",
        "krovostok_model = Model(hidden_size, learning_rate, chunk_len, \n",
        "                  batch_size, data, model_type, n_layers, cuda)\n",
        "krovostok_model.start_train(n_epochs, print_every)\n",
        "krovostok_model.plot_loss()"
      ],
      "execution_count": null,
      "outputs": [
        {
          "output_type": "stream",
          "text": [
            "Training for 1200 epochs...\n",
            "[2m 12s (100 8%) 2.3826]\n",
            "Aпохульны мить не мовак в дуда серить в вна басто и дораснить кость нен тельтру, бронит отче от че пр \n",
            "\n",
            "[4m 25s (200 16%) 2.0135]\n",
            "Aя помнет страли у с всебул как в житьки сы у с из это больбо полосвовся а влязвет хуй, ду отколся та \n",
            "\n",
            "[6m 36s (300 25%) 1.6766]\n",
            "Aвепесийские сами манипомо, был отрики так на жить плохой тромой задных затолько вот дожет тука на за \n",
            "\n",
            "[8m 48s (400 33%) 1.3761]\n",
            "Aприоткрытных у него не приручают хуй потом что леху нет твой умелчит говорит, ради, клен когда захар \n",
            "\n",
            "[10m 59s (500 41%) 1.0589]\n",
            "Aпристелась ковратся в как хуйне, оказалась мы любители из всех муска, мне пиздатает ты ранености соп \n",
            "\n",
            "[13m 10s (600 50%) 0.8553]\n",
            "A— мубить лохи косно, хлебных портивно так постелем понюхаю, будто большой свой смотром не звук вытир \n",
            "\n",
            "[15m 21s (700 58%) 0.5901]\n",
            "Aнас осталось опер сделал с правильных каше, «тых деревни чем ты ближе к земле, тем ближе к тебе черв \n",
            "\n",
            "[17m 33s (800 66%) 0.4740]\n",
            "Aзабыли ебучие глазами рэпак огромные сопронная сеть его не понять? их на «google out look slike эеlo \n",
            "\n",
            "[19m 45s (900 75%) 0.3277]\n",
            "Aя люблю свободу как сдохну, обязательно какого спиздили в загороднах париков думай позитивно, стакан \n",
            "\n",
            "[21m 57s (1000 83%) 0.2514]\n",
            "Aещё одно трассу и никто режет садцати, со мной, я губрен, норчички и с сахарной пудрой и запаха мне  \n",
            "\n",
            "[24m 9s (1100 91%) 0.1851]\n",
            "Aброще инт по россии матушке, я и не против, мох в сумерках, телогрейка в катышках ах, россия, иконка \n",
            "\n",
            "[26m 22s (1200 100%) 0.1931]\n",
            "Aдымовая куспе на мелчу захуярить меня и хорошо себя, чувствую тебе хотельно наполовину полон, всегда \n",
            "\n"
          ],
          "name": "stdout"
        },
        {
          "output_type": "display_data",
          "data": {
            "image/png": "[encoded data removed]",
            "text/plain": [
              "<Figure size 432x288 with 1 Axes>"
            ]
          },
          "metadata": {
            "tags": [],
            "needs_background": "light"
          }
        }
      ]
    },
    {
      "cell_type": "code",
      "metadata": {
        "colab": {
          "base_uri": "https://localhost:8080/"
        },
        "id": "utiN-tDUqYzp",
        "outputId": "58c896a3-ab7e-4676-837e-9530874a44cf"
      },
      "source": [
        "for temperature in np.arange(0.3, 2, 0.3):\n",
        "    print('temperature = %.1f' % temperature, ' ', krovostok_model.generate('Россия ', 100, temperature=temperature))"
      ],
      "execution_count": null,
      "outputs": [
        {
          "output_type": "stream",
          "text": [
            "temperature = 0.3   Россия так поддержите, сделав напас кому важен шершавый инструментал на нем теплый вокал ложащийся как масл\n",
            "temperature = 0.6   Россия радость наполнила рот, вот и всё приплыли раздевайся иди в душ помой пизду обнови потёкшую тушь гово\n",
            "temperature = 0.9   Россия так поддержите, сделав напас кому вас щенок телефона я собой в гроба ее вампиры я жизнь у меня салфе\n",
            "temperature = 1.2   Россия там в тувидьки деньги а жопы в будущем не отпускаю них сам чё говорит темы стрелы в мозг переносится\n",
            "temperature = 1.5   Россия так просили я предохранителя вспомнился свинос ее гда все еще я... стоанны как то мильный, лих дету,\n",
            "temperature = 1.8   Россия еклен, юсь в горячих девецсят как пузырь, вспомнил кто что бы нариков тащи, похуя по вкущу вщищийся \n"
          ],
          "name": "stdout"
        }
      ]
    },
    {
      "cell_type": "code",
      "metadata": {
        "colab": {
          "base_uri": "https://localhost:8080/",
          "height": 52
        },
        "id": "i2wergiqszFS",
        "outputId": "08d64a8c-be96-4bf6-a1ea-4ebf2ad3ecc4"
      },
      "source": [
        "krovostok_model.generate('Россия ', 300, temperature=0.9)"
      ],
      "execution_count": null,
      "outputs": [
        {
          "output_type": "execute_result",
          "data": {
            "application/vnd.google.colaboratory.intrinsic+json": {
              "type": "string"
            },
            "text/plain": [
              "'Россия так поддержите, сделано зал, переобуться в тапки и в который раз потерялся в под присмотром чуткого бога повторяй эту поебень чаще, повторяй, даже если звучит убого тебе не бульоне показали колоть ещё хромает подходим к машинам макаровых смотрела в мою сторону я вмяике ты пылесосишь под диваном или '"
            ]
          },
          "metadata": {
            "tags": []
          },
          "execution_count": 50
        }
      ]
    },
    {
      "cell_type": "markdown",
      "metadata": {
        "id": "W0bJcwSxzZIH"
      },
      "source": [
        "##Выводы"
      ]
    },
    {
      "cell_type": "markdown",
      "metadata": {
        "id": "ZfjEwp82zdSp"
      },
      "source": [
        "Лучшие результаты продемонстрировала модель с архитектурой LSTM, *hidden size=256*, *chunk=200*, *num_layers=2*. \n",
        "\n",
        "Стоит отметить, что она лучшая несмотря на смену датасетов, и языка. Однако, у архитектуры GRU есть преимущество, она быстрее тренируется. Что при реальном использовании архитектуры может дать выбор в ее пользу.\n",
        "\n",
        "По поводу инференса - оптимальная температура 0.6-0.9.\n",
        "\n",
        "Сгенерированный текст с оптимальным набором параметров - почти похож на реальный текст любой песни кровостока: \"Россия радость наполнила рот, вот и всё приплыли. Раздевайся иди в душ помой пизду обнови потёкшую тушь гово....\". \n",
        "\n"
      ]
    }
  ]
}